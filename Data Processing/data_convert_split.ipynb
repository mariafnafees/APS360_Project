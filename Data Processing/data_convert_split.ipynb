{
  "nbformat": 4,
  "nbformat_minor": 0,
  "metadata": {
    "colab": {
      "provenance": []
    },
    "kernelspec": {
      "name": "python3",
      "display_name": "Python 3"
    },
    "language_info": {
      "name": "python"
    }
  },
  "cells": [
    {
      "cell_type": "code",
      "execution_count": null,
      "metadata": {
        "id": "ffhdhGOzRNbL"
      },
      "outputs": [],
      "source": [
        "import os\n",
        "import cv2\n",
        "import numpy as np\n",
        "import matplotlib.pyplot as plt\n",
        "from PIL import Image\n",
        "from google.colab import drive"
      ]
    },
    {
      "cell_type": "code",
      "source": [
        "# mounting Google Drive\n",
        "drive.mount('/content/drive')"
      ],
      "metadata": {
        "colab": {
          "base_uri": "https://localhost:8080/"
        },
        "id": "hWUQe3XLRQ7G",
        "outputId": "7216bb63-82d9-472d-fecf-51b8901f9c7e"
      },
      "execution_count": null,
      "outputs": [
        {
          "output_type": "stream",
          "name": "stdout",
          "text": [
            "Drive already mounted at /content/drive; to attempt to forcibly remount, call drive.mount(\"/content/drive\", force_remount=True).\n"
          ]
        }
      ]
    },
    {
      "cell_type": "code",
      "source": [
        "# defining our paths\n",
        "input_directory = \"/content/drive/MyDrive/new_data\"\n",
        "output_directory = \"/content/drive/MyDrive/processed_new_data\""
      ],
      "metadata": {
        "id": "ANvVrSDSRUYs"
      },
      "execution_count": null,
      "outputs": []
    },
    {
      "cell_type": "code",
      "source": [
        "# Create the output directory\n",
        "os.makedirs(output_directory, exist_ok=True)"
      ],
      "metadata": {
        "id": "7vlIH-fBdeWt"
      },
      "execution_count": null,
      "outputs": []
    },
    {
      "cell_type": "code",
      "source": [
        "def remove_background(image_path, threshold_value=240):\n",
        "    \"\"\"\n",
        "    Removes the background from an image based on a threshold value.\n",
        "    Assumes the background is plain and light (e.g., white or very light).\n",
        "    \"\"\"\n",
        "    img = cv2.imread(image_path)\n",
        "    if img is None:\n",
        "        print(f\"Error: Could not read {image_path}\")\n",
        "        return None\n",
        "\n",
        "    gray = cv2.cvtColor(img, cv2.COLOR_BGR2GRAY)\n",
        "    _, thresh = cv2.threshold(gray, threshold_value, 255, cv2.THRESH_BINARY_INV)\n",
        "    result = cv2.bitwise_and(img, img, mask=thresh)\n",
        "    return result\n",
        "\n",
        "def resize_and_convert_to_grayscale(image):\n",
        "    \"\"\"\n",
        "    Resizes the image to 28x28 and converts it to grayscale.\n",
        "    \"\"\"\n",
        "    gray_image = cv2.cvtColor(image, cv2.COLOR_BGR2GRAY)\n",
        "    resized_image = cv2.resize(gray_image, (28, 28), interpolation=cv2.INTER_AREA)\n",
        "    return resized_image\n",
        "\n",
        "def save_image(image, output_path):\n",
        "    \"\"\"\n",
        "    Saves the processed image to the specified path.\n",
        "    \"\"\"\n",
        "    pil_image = Image.fromarray(image)\n",
        "    pil_image.save(output_path)\n",
        "\n",
        "def process_sketch(image_path, output_path):\n",
        "    \"\"\"\n",
        "    Processes the sketch by removing background, resizing, and converting to grayscale.\n",
        "    \"\"\"\n",
        "    no_background_image = remove_background(image_path)\n",
        "    if no_background_image is None:\n",
        "        return False\n",
        "    final_image = resize_and_convert_to_grayscale(no_background_image)\n",
        "    save_image(final_image, output_path)\n",
        "    return True\n"
      ],
      "metadata": {
        "id": "Q7fmni9yR-n5"
      },
      "execution_count": null,
      "outputs": []
    },
    {
      "cell_type": "code",
      "source": [
        "# Get all categories (subfolders)\n",
        "categories = [d for d in os.listdir(input_directory) if os.path.isdir(os.path.join(input_directory, d))]"
      ],
      "metadata": {
        "id": "wHBSJkA_SGyJ"
      },
      "execution_count": null,
      "outputs": []
    },
    {
      "cell_type": "code",
      "source": [
        "# Process images for each category (No splitting at this point)\n",
        "for category in categories:\n",
        "    category_path = os.path.join(input_directory, category)\n",
        "    output_category_path = os.path.join(output_directory, category)\n",
        "\n",
        "    # Create category folder in output directory\n",
        "    os.makedirs(output_category_path, exist_ok=True)\n",
        "\n",
        "    # Process and save images\n",
        "    images = [f for f in os.listdir(category_path) if f.endswith(('.jpg', '.png', '.jpeg'))]\n",
        "    for file in images:\n",
        "        input_path = os.path.join(category_path, file)\n",
        "        output_path = os.path.join(output_category_path, file)\n",
        "        if process_sketch(input_path, output_path):\n",
        "            print(f\"Processed and saved: {output_path}\")\n",
        "\n",
        "print(\"Data processing completed. Images are organized by category.\")"
      ],
      "metadata": {
        "collapsed": true,
        "id": "_IROntXsSP8I"
      },
      "execution_count": null,
      "outputs": []
    },
    {
      "cell_type": "code",
      "source": [],
      "metadata": {
        "id": "ekLTqnOZSnhq"
      },
      "execution_count": null,
      "outputs": []
    }
  ]
}