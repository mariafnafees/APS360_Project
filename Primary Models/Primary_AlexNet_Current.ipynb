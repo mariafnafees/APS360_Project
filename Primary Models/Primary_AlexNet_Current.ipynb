{
 "cells": [
  {
   "cell_type": "code",
   "execution_count": 24,
   "id": "220c2bf6-f820-45cf-83fe-a700fe5aaf13",
   "metadata": {},
   "outputs": [],
   "source": [
    "import os\n",
    "import numpy as np\n",
    "from sklearn.model_selection import train_test_split\n",
    "from PIL import Image\n",
    "from torchvision import transforms\n",
    "from torch.utils.data import Dataset\n",
    "from PIL import Image\n",
    "import numpy as np\n",
    "import os"
   ]
  },
  {
   "cell_type": "code",
   "execution_count": 3,
   "id": "e714142c-5918-40dd-91a3-090448d9c5d3",
   "metadata": {},
   "outputs": [],
   "source": [
    "class NPYImageDataset(Dataset):\n",
    "    def __init__(self, image_array, label_array, transform=None):\n",
    "        self.images = image_array\n",
    "        self.labels = label_array\n",
    "        self.transform = transform\n",
    "\n",
    "    def __len__(self):\n",
    "        return len(self.images)\n",
    "\n",
    "    def __getitem__(self, idx):\n",
    "        img = self.images[idx].astype(np.uint8)  # Convert back to uint8\n",
    "        img = Image.fromarray(img, mode='L')     # Grayscale image\n",
    "        if self.transform:\n",
    "            img = self.transform(img)\n",
    "        label = self.labels[idx]\n",
    "        return img, label"
   ]
  },
  {
   "cell_type": "code",
   "execution_count": 4,
   "id": "7135e82e-276e-493b-b01c-2052cd736000",
   "metadata": {},
   "outputs": [],
   "source": [
    "data_dir = \"data\" # output path\n",
    "\n",
    "train_images = np.load(os.path.join(data_dir, \"train_images.npy\"))\n",
    "train_labels = np.load(os.path.join(data_dir, \"train_labels.npy\"))\n",
    "val_images = np.load(os.path.join(data_dir, \"val_images.npy\"))\n",
    "val_labels = np.load(os.path.join(data_dir, \"val_labels.npy\"))\n",
    "test_images = np.load(os.path.join(data_dir, \"test_images.npy\"))\n",
    "test_labels = np.load(os.path.join(data_dir, \"test_labels.npy\"))"
   ]
  },
  {
   "cell_type": "code",
   "execution_count": 5,
   "id": "125b6bef-632f-4ec7-9b17-d91643e7b852",
   "metadata": {},
   "outputs": [],
   "source": [
    "from torchvision import transforms\n",
    "\n",
    "alexnet_transform = transforms.Compose([\n",
    "    transforms.Resize((224, 224)),\n",
    "    transforms.Grayscale(num_output_channels=3),  # 3 channels for AlexNet\n",
    "    transforms.ToTensor()\n",
    "])"
   ]
  },
  {
   "cell_type": "code",
   "execution_count": 6,
   "id": "9d70f204-8cca-4a42-9bfe-8742586a7bcf",
   "metadata": {},
   "outputs": [],
   "source": [
    "batch_size = 1  # for saving features one-by-one\n",
    "\n",
    "train_dataset = NPYImageDataset(train_images, train_labels, transform=alexnet_transform)\n",
    "val_dataset = NPYImageDataset(val_images, val_labels, transform=alexnet_transform)\n",
    "test_dataset = NPYImageDataset(test_images, test_labels, transform=alexnet_transform)\n",
    "\n",
    "from torch.utils.data import DataLoader\n",
    "\n",
    "train_loader = DataLoader(train_dataset, batch_size=batch_size, shuffle=True)\n",
    "val_loader = DataLoader(val_dataset, batch_size=batch_size, shuffle=True)\n",
    "test_loader = DataLoader(test_dataset, batch_size=batch_size, shuffle=True)"
   ]
  },
  {
   "cell_type": "code",
   "execution_count": 8,
   "id": "ffeccbb7-5334-4d09-9078-0ea3e68755fe",
   "metadata": {},
   "outputs": [],
   "source": [
    "import os\n",
    "import torch\n",
    "import torch.nn as nn\n",
    "import torch.nn.functional as F\n",
    "import torchvision\n",
    "from torchvision import transforms, datasets\n",
    "from torch.utils.data import DataLoader\n",
    "from math import floor\n",
    "import matplotlib.pyplot as plt"
   ]
  },
  {
   "cell_type": "code",
   "execution_count": 9,
   "id": "d553c2e1-40ef-4228-bf3e-2d19f036734d",
   "metadata": {},
   "outputs": [],
   "source": [
    "# Adjust these paths to your environment\n",
    "master_path = \"/\"\n",
    "data_path = os.path.join(master_path, \"data\")\n",
    "feature_path = os.path.join(master_path, \"data\")\n",
    "\n",
    "# 9-class QuickDraw task\n",
    "classes = [\"apple\", \"bee\", \"cat\", \"eyeglasses\", \"fish\", \"flower\", \"house\", \"pencil\", \"pizza\"]\n"
   ]
  },
  {
   "cell_type": "code",
   "execution_count": 10,
   "id": "76b25ea7-4c17-401a-a42a-8a2b28549553",
   "metadata": {},
   "outputs": [],
   "source": [
    "batch_size = 1  # for saving features one-by-one\n",
    "\n",
    "train_dataset = NPYImageDataset(train_images, train_labels, transform=alexnet_transform)\n",
    "val_dataset = NPYImageDataset(val_images, val_labels, transform=alexnet_transform)\n",
    "test_dataset = NPYImageDataset(test_images, test_labels, transform=alexnet_transform)\n",
    "\n",
    "from torch.utils.data import DataLoader\n",
    "\n",
    "train_loader = DataLoader(train_dataset, batch_size=batch_size, shuffle=True)\n",
    "val_loader = DataLoader(val_dataset, batch_size=batch_size, shuffle=True)\n",
    "test_loader = DataLoader(test_dataset, batch_size=batch_size, shuffle=True)"
   ]
  },
  {
   "cell_type": "code",
   "execution_count": 12,
   "id": "189cf5b2-a844-482c-8ced-9fa787e6182a",
   "metadata": {},
   "outputs": [
    {
     "name": "stdout",
     "output_type": "stream",
     "text": [
      "Processing train data...\n",
      "Saved 0 features...\n",
      "Saved 100 features...\n",
      "Saved 200 features...\n",
      "Saved 300 features...\n",
      "Saved 400 features...\n",
      "Saved 500 features...\n",
      "Saved 600 features...\n",
      "Saved 700 features...\n",
      "Saved 800 features...\n",
      "Saved 900 features...\n",
      "Saved 1000 features...\n",
      "Saved 1100 features...\n",
      "Saved 1200 features...\n",
      "Saved 1300 features...\n",
      "Saved 1400 features...\n",
      "Saved 1500 features...\n",
      "Saved 1600 features...\n",
      "Saved 1700 features...\n",
      "Saved 1800 features...\n",
      "Saved 1900 features...\n",
      "Saved 2000 features...\n",
      "Saved 2100 features...\n",
      "Saved 2200 features...\n",
      "Saved 2300 features...\n",
      "Saved 2400 features...\n",
      "Saved 2500 features...\n",
      "Saved 2600 features...\n",
      "Saved 2700 features...\n",
      "Saved 2800 features...\n",
      "Saved 2900 features...\n",
      "Saved 3000 features...\n",
      "Saved 3100 features...\n",
      "Saved 3200 features...\n",
      "Saved 3300 features...\n",
      "Saved 3400 features...\n",
      "Saved 3500 features...\n",
      "Saved 3600 features...\n",
      "Saved 3700 features...\n",
      "Saved 3800 features...\n",
      "Saved 3900 features...\n",
      "Saved 4000 features...\n",
      "Saved 4100 features...\n",
      "Saved 4200 features...\n",
      "Saved 4300 features...\n",
      "Saved 4400 features...\n",
      "Saved 4500 features...\n",
      "Saved 4600 features...\n",
      "Saved 4700 features...\n",
      "Saved 4800 features...\n",
      "Saved 4900 features...\n",
      "Saved 5000 features...\n",
      "Saved 5100 features...\n",
      "Saved 5200 features...\n",
      "Saved 5300 features...\n",
      "Saved 5400 features...\n",
      "Saved 5500 features...\n",
      "Saved 5600 features...\n",
      "Saved 5700 features...\n",
      "Saved 5800 features...\n",
      "Saved 5900 features...\n",
      "Saved 6000 features...\n",
      "Saved 6100 features...\n",
      "Saved 6200 features...\n",
      "Saved 6300 features...\n",
      "Saved 6400 features...\n",
      "Saved 6500 features...\n",
      "Saved 6600 features...\n",
      "Saved 6700 features...\n",
      "Saved 6800 features...\n",
      "Saved 6900 features...\n",
      "Saved 7000 features...\n",
      "Saved 7100 features...\n",
      "Saved 7200 features...\n",
      "Saved 7300 features...\n",
      "Saved 7400 features...\n",
      "Saved 7500 features...\n",
      "Saved 7600 features...\n",
      "Saved 7700 features...\n",
      "Saved 7800 features...\n",
      "Saved 7900 features...\n",
      "Saved 8000 features...\n",
      "Processing val data...\n",
      "Saved 0 features...\n",
      "Saved 100 features...\n",
      "Saved 200 features...\n",
      "Saved 300 features...\n",
      "Saved 400 features...\n",
      "Saved 500 features...\n",
      "Saved 600 features...\n",
      "Saved 700 features...\n",
      "Saved 800 features...\n",
      "Saved 900 features...\n",
      "Saved 1000 features...\n",
      "Saved 1100 features...\n",
      "Saved 1200 features...\n",
      "Saved 1300 features...\n",
      "Saved 1400 features...\n",
      "Saved 1500 features...\n",
      "Saved 1600 features...\n",
      "Saved 1700 features...\n",
      "Saved 1800 features...\n",
      "Saved 1900 features...\n",
      "Saved 2000 features...\n",
      "Saved 2100 features...\n",
      "Saved 2200 features...\n",
      "Saved 2300 features...\n",
      "Saved 2400 features...\n",
      "Saved 2500 features...\n",
      "Saved 2600 features...\n",
      "Processing test data...\n",
      "Saved 0 features...\n",
      "Saved 100 features...\n",
      "Saved 200 features...\n",
      "Saved 300 features...\n",
      "Saved 400 features...\n",
      "Saved 500 features...\n",
      "Saved 600 features...\n",
      "Saved 700 features...\n",
      "Saved 800 features...\n",
      "Saved 900 features...\n",
      "Saved 1000 features...\n",
      "Saved 1100 features...\n",
      "Saved 1200 features...\n",
      "Saved 1300 features...\n",
      "Saved 1400 features...\n",
      "Saved 1500 features...\n",
      "Saved 1600 features...\n",
      "Saved 1700 features...\n",
      "Saved 1800 features...\n",
      "Saved 1900 features...\n",
      "Saved 2000 features...\n",
      "Saved 2100 features...\n",
      "Saved 2200 features...\n",
      "Saved 2300 features...\n",
      "Saved 2400 features...\n",
      "Saved 2500 features...\n",
      "Saved 2600 features...\n"
     ]
    }
   ],
   "source": [
    "alexnet = torchvision.models.alexnet(pretrained=True).to('cuda' if torch.cuda.is_available() else 'cpu')\n",
    "alexnet.eval()\n",
    "\n",
    "device = torch.device(\"cuda\" if torch.cuda.is_available() else \"cpu\")\n",
    "\n",
    "def save_alexnet_features(data_loader, dataset_type=\"train\"):\n",
    "    print(f\"Processing {dataset_type} data...\")\n",
    "    n = 0\n",
    "    for img, label in data_loader:\n",
    "        img = img.to(device)\n",
    "        features = alexnet.features(img)\n",
    "        features_tensor = features.cpu().detach()\n",
    "\n",
    "        class_name = classes[label.item()]\n",
    "        save_dir = os.path.join(feature_path, dataset_type, class_name)\n",
    "        os.makedirs(save_dir, exist_ok=True)\n",
    "\n",
    "        torch.save(features_tensor.squeeze(0), os.path.join(save_dir, f\"{n}.tensor\"))\n",
    "\n",
    "        if n % 100 == 0:\n",
    "            print(f\"Saved {n} features...\")\n",
    "        n += 1\n",
    "\n",
    "save_alexnet_features(train_loader, \"train\")\n",
    "save_alexnet_features(val_loader, \"val\")\n",
    "save_alexnet_features(test_loader, \"test\")\n"
   ]
  },
  {
   "cell_type": "code",
   "execution_count": 13,
   "id": "1b6bbd79-5f93-4db5-8275-d966884a4318",
   "metadata": {},
   "outputs": [],
   "source": [
    "class Alexnet_Classifier(nn.Module):\n",
    "    def __init__(self):\n",
    "        #self.name = \"AxelxNet_Quick\"\n",
    "        super(Alexnet_Classifier, self).__init__()\n",
    "        self.conv1 = nn.Conv2d(256, 512, kernel_size=3)\n",
    "        self.pool = nn.MaxPool2d(kernel_size=2, stride=2)\n",
    "\n",
    "        self.x = floor((6 - 3 + 1) / 2)  # = 2\n",
    "        self.FC_input = 512 * self.x * self.x\n",
    "\n",
    "        self.fc1 = nn.Linear(self.FC_input, 32)\n",
    "        self.fc2 = nn.Linear(32, 9)  # 9 QuickDraw classes\n",
    "\n",
    "    def forward(self, x):\n",
    "        x = self.pool(F.relu(self.conv1(x)))\n",
    "        x = x.view(-1, self.FC_input)\n",
    "        x = F.relu(self.fc1(x))\n",
    "        x = self.fc2(x)\n",
    "        return F.log_softmax(x, dim=1)\n"
   ]
  },
  {
   "cell_type": "code",
   "execution_count": 14,
   "id": "ad81616f-3b02-4cef-a81e-1779dc1edb3a",
   "metadata": {},
   "outputs": [],
   "source": [
    "train_features = datasets.DatasetFolder(os.path.join(feature_path, \"train\"),\n",
    "                                        loader=torch.load, extensions=('.tensor'))\n",
    "val_features = datasets.DatasetFolder(os.path.join(feature_path, \"val\"),\n",
    "                                      loader=torch.load, extensions=('.tensor'))\n",
    "test_features = datasets.DatasetFolder(os.path.join(feature_path, \"test\"),\n",
    "                                       loader=torch.load, extensions=('.tensor'))\n",
    "\n",
    "train_loader_feat = DataLoader(train_features, batch_size=32, shuffle=True)\n",
    "val_loader_feat = DataLoader(val_features, batch_size=32, shuffle=True)\n",
    "test_loader_feat = DataLoader(test_features, batch_size=32, shuffle=False)\n"
   ]
  },
  {
   "cell_type": "code",
   "execution_count": 15,
   "id": "f9aa1183-14e0-44cf-8038-e464d984adb8",
   "metadata": {},
   "outputs": [],
   "source": [
    "def train_model(model, train_loader, val_loader, epochs=10, lr=0.001):\n",
    "    optimizer = torch.optim.Adam(model.parameters(), lr=lr)\n",
    "    criterion = nn.NLLLoss()\n",
    "    model = model.to(device)\n",
    "\n",
    "    train_acc_history = []\n",
    "    val_acc_history = []\n",
    "\n",
    "    for epoch in range(epochs):\n",
    "        model.train()\n",
    "        correct, total = 0, 0\n",
    "        for features, labels in train_loader:\n",
    "            features, labels = features.to(device), labels.to(device)\n",
    "            optimizer.zero_grad()\n",
    "            outputs = model(features)\n",
    "            loss = criterion(outputs, labels)\n",
    "            loss.backward()\n",
    "            optimizer.step()\n",
    "\n",
    "            preds = outputs.argmax(dim=1)\n",
    "            correct += (preds == labels).sum().item()\n",
    "            total += labels.size(0)\n",
    "\n",
    "        train_acc = 100 * correct / total\n",
    "        train_acc_history.append(train_acc)\n",
    "\n",
    "        # validation\n",
    "        model.eval()\n",
    "        with torch.no_grad():\n",
    "            correct, total = 0, 0\n",
    "            for features, labels in val_loader:\n",
    "                features, labels = features.to(device), labels.to(device)\n",
    "                outputs = model(features)\n",
    "                preds = outputs.argmax(dim=1)\n",
    "                correct += (preds == labels).sum().item()\n",
    "                total += labels.size(0)\n",
    "\n",
    "            val_acc = 100 * correct / total\n",
    "            val_acc_history.append(val_acc)\n",
    "\n",
    "        print(f\"Epoch {epoch+1}: Train Acc = {train_acc:.2f}%, Val Acc = {val_acc:.2f}%\")\n",
    "\n",
    "    return train_acc_history, val_acc_history\n"
   ]
  },
  {
   "cell_type": "code",
   "execution_count": 17,
   "id": "19a2544b-93ae-4984-ba37-d315f9f37b39",
   "metadata": {},
   "outputs": [
    {
     "name": "stdout",
     "output_type": "stream",
     "text": [
      "Epoch 1: Train Acc = 88.40%, Val Acc = 91.93%\n",
      "Epoch 2: Train Acc = 94.69%, Val Acc = 93.37%\n",
      "Epoch 3: Train Acc = 96.51%, Val Acc = 93.85%\n",
      "Epoch 4: Train Acc = 97.90%, Val Acc = 94.04%\n",
      "Epoch 5: Train Acc = 98.53%, Val Acc = 94.48%\n",
      "Epoch 6: Train Acc = 99.52%, Val Acc = 93.89%\n",
      "Epoch 7: Train Acc = 99.33%, Val Acc = 94.11%\n",
      "Epoch 8: Train Acc = 99.89%, Val Acc = 93.37%\n",
      "Epoch 9: Train Acc = 99.73%, Val Acc = 94.59%\n",
      "Epoch 10: Train Acc = 99.86%, Val Acc = 93.04%\n"
     ]
    }
   ],
   "source": [
    "model = Alexnet_Classifier()\n",
    "train_acc, val_acc = train_model(model, train_loader_feat, val_loader_feat, epochs=10)"
   ]
  },
  {
   "cell_type": "code",
   "execution_count": 19,
   "id": "402d2c03-815e-466e-a693-b214b2e2c354",
   "metadata": {},
   "outputs": [
    {
     "data": {
      "image/png": "[encoded data removed]",
      "text/plain": [
       "<Figure size 640x480 with 1 Axes>"
      ]
     },
     "metadata": {},
     "output_type": "display_data"
    }
   ],
   "source": [
    "plt.plot(train_acc, label='Train Acc')\n",
    "plt.plot(val_acc, label='Val Acc')\n",
    "plt.xlabel('Epoch')\n",
    "plt.ylabel('Accuracy (%)')\n",
    "plt.title('AlexNet Classifier Training')\n",
    "plt.legend()\n",
    "plt.grid(True)\n",
    "plt.show()"
   ]
  },
  {
   "cell_type": "code",
   "execution_count": 26,
   "id": "14456375-d531-47a6-b55d-6ba02effcfbf",
   "metadata": {},
   "outputs": [],
   "source": [
    "torch.save(model.state_dict(), os.path.join(\"data\", \"alexnet_classifier_trained.pth\"))\n"
   ]
  },
  {
   "cell_type": "code",
   "execution_count": 16,
   "id": "0f88741c-d6fb-42e8-b0bc-ce45bab52349",
   "metadata": {},
   "outputs": [
    {
     "data": {
      "text/plain": [
       "Alexnet_Classifier(\n",
       "  (conv1): Conv2d(256, 512, kernel_size=(3, 3), stride=(1, 1))\n",
       "  (pool): MaxPool2d(kernel_size=2, stride=2, padding=0, dilation=1, ceil_mode=False)\n",
       "  (fc1): Linear(in_features=2048, out_features=32, bias=True)\n",
       "  (fc2): Linear(in_features=32, out_features=9, bias=True)\n",
       ")"
      ]
     },
     "execution_count": 16,
     "metadata": {},
     "output_type": "execute_result"
    }
   ],
   "source": [
    "model = Alexnet_Classifier().to(device)\n",
    "model.load_state_dict(torch.load(os.path.join(\"data\", \"alexnet_classifier_trained.pth\"), map_location=device))\n",
    "model.eval()"
   ]
  },
  {
   "cell_type": "code",
   "execution_count": 19,
   "id": "d645b91e-09e1-46f3-b620-0c70b5bb7dba",
   "metadata": {},
   "outputs": [],
   "source": [
    "# for evaluation on test set\n",
    "def evaluate_model(model, data_loader, device):\n",
    "    model.eval()\n",
    "    correct, total = 0, 0\n",
    "\n",
    "    with torch.no_grad():\n",
    "        for features, labels in data_loader:\n",
    "            features, labels = features.to(device), labels.to(device)\n",
    "            outputs = model(features)\n",
    "            predictions = outputs.argmax(dim=1)\n",
    "            correct += (predictions == labels).sum().item()\n",
    "            total += labels.size(0)\n",
    "\n",
    "    accuracy = 100 * correct / total\n",
    "    return accuracy"
   ]
  },
  {
   "cell_type": "code",
   "execution_count": 22,
   "id": "e5b21a86-4df0-4f4d-9159-d6b45e63ca4f",
   "metadata": {},
   "outputs": [
    {
     "name": "stdout",
     "output_type": "stream",
     "text": [
      "Trained AlexNet Test Accuracy: 94.76%\n"
     ]
    }
   ],
   "source": [
    "# Evaluate on test set\n",
    "test_acc = evaluate_model(model, test_loader, device)\n",
    "print(f\"Trained AlexNet Test Accuracy: {test_acc:.2f}%\")"
   ]
  },
  {
   "cell_type": "code",
   "execution_count": 28,
   "id": "003c8e07-f6dd-4e38-a6d9-e8f8b4388d67",
   "metadata": {},
   "outputs": [
    {
     "data": {
      "image/png": "[encoded data removed]",
      "text/plain": [
       "<Figure size 640x480 with 1 Axes>"
      ]
     },
     "metadata": {},
     "output_type": "display_data"
    }
   ],
   "source": [
    "# testing an image prediction with the trained model\n",
    "image_path = \"new/image5.png\"\n",
    "\n",
    "# display image\n",
    "plt.imshow(image, cmap='gray')  # Use grayscale colormap\n",
    "plt.axis('off')  # Hide axes\n",
    "plt.show()"
   ]
  },
  {
   "cell_type": "code",
   "execution_count": null,
   "id": "4f164eb0-fdd9-4d9e-8c7d-03deec96955e",
   "metadata": {},
   "outputs": [],
   "source": [
    "# Load and preprocess image\n",
    "image = Image.open(image_path).convert(\"L\")  # Grayscale\n",
    "image_tensor = transform(image).unsqueeze(0).to(device)  # Add batch dim"
   ]
  },
  {
   "cell_type": "code",
   "execution_count": 30,
   "id": "825df811-df5e-4dfd-bd0d-513d4e6bafea",
   "metadata": {},
   "outputs": [
    {
     "name": "stdout",
     "output_type": "stream",
     "text": [
      "Predicted Class: apple\n"
     ]
    }
   ],
   "source": [
    "# extract features from AlexNet\n",
    "with torch.no_grad():\n",
    "    features = alexnet.features(image_tensor)\n",
    "    output = model(features)\n",
    "    pred_idx = output.argmax(dim=1).item()\n",
    "    pred_label = CLASSES[pred_idx]\n",
    "\n",
    "print(f\"Predicted Class: {pred_label}\")"
   ]
  },
  {
   "cell_type": "code",
   "execution_count": null,
   "id": "24873821-9e13-4a94-a331-23b037749e72",
   "metadata": {},
   "outputs": [],
   "source": []
  }
 ],
 "metadata": {
  "kernelspec": {
   "display_name": "Python 3 (ipykernel)",
   "language": "python",
   "name": "python3"
  },
  "language_info": {
   "codemirror_mode": {
    "name": "ipython",
    "version": 3
   },
   "file_extension": ".py",
   "mimetype": "text/x-python",
   "name": "python",
   "nbconvert_exporter": "python",
   "pygments_lexer": "ipython3",
   "version": "3.12.4"
  }
 },
 "nbformat": 4,
 "nbformat_minor": 5
}
